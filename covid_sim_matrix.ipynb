{
  "nbformat": 4,
  "nbformat_minor": 0,
  "metadata": {
    "colab": {
      "name": "Sample_1_covid_Sim",
      "provenance": []
    },
    "kernelspec": {
      "name": "python3",
      "display_name": "Python 3"
    }
  },
  "cells": [
    {
      "cell_type": "code",
      "metadata": {
        "id": "TvrT88iTE3cr"
      },
      "source": [
        "import pandas as pd\n",
        "import numpy as np\n",
        "import pickle\n",
        "import math\n",
        "from sklearn.feature_extraction.text import TfidfVectorizer\n",
        "import random\n",
        "from sklearn.preprocessing import normalize\n",
        "import csv\n",
        "import os\n",
        "import statistics"
      ],
      "execution_count": null,
      "outputs": []
    },
    {
      "cell_type": "code",
      "metadata": {
        "id": "juk3R1j_E7fW"
      },
      "source": [
        "words = pickle.load(open('final_words.pkl','rb'))"
      ],
      "execution_count": null,
      "outputs": []
    },
    {
      "cell_type": "code",
      "metadata": {
        "id": "Se15NSuSrqyz"
      },
      "source": [
        "#words"
      ],
      "execution_count": null,
      "outputs": []
    },
    {
      "cell_type": "code",
      "metadata": {
        "id": "m3codpi9E--F"
      },
      "source": [
        "def common_member(a, b): \n",
        "    a_set = set(a) \n",
        "    b_set = set(b) \n",
        "    if (a_set & b_set): \n",
        "        return True \n",
        "    else: \n",
        "        return False"
      ],
      "execution_count": null,
      "outputs": []
    },
    {
      "cell_type": "code",
      "metadata": {
        "id": "-6TlJE98FDxe"
      },
      "source": [
        "def controlPoint(x,y):\n",
        "  z = []\n",
        "  for i in range(0,len(y)):\n",
        "     for item in y[i].split():\n",
        "         z.append(item)\n",
        "  boolian = [str(common_member([str(word)], z)) for word in x]\n",
        "  if common_member(['False'], boolian) == True:\n",
        "    return False\n",
        "  else:\n",
        "    return True"
      ],
      "execution_count": null,
      "outputs": []
    },
    {
      "cell_type": "code",
      "metadata": {
        "id": "FAGZDvhMFH66"
      },
      "source": [
        "def compute_cosineSimilarities(lists, corpor):\n",
        "  corpor = list(corpor['texts'])\n",
        "  holder = []\n",
        "  item = 0\n",
        "  while item < len(corpor):\n",
        "    if common_member(corpor[item].split(), lists) == True:\n",
        "      holder.append(corpor[item])\n",
        "    item = item + 1\n",
        "  if len(holder) > 500:\n",
        "    temp = random.sample(holder, k = 500)\n",
        "    while controlPoint(lists, temp) == False:\n",
        "      temp = random.sample(holder, k = 500)\n",
        "    holder = temp\n",
        "  vectorizer = TfidfVectorizer()\n",
        "  vectors = vectorizer.fit_transform(holder)\n",
        "  feature_names = vectorizer.get_feature_names()\n",
        "  denselist = (vectors.todense()).tolist()\n",
        "  feature_dataframe = pd.DataFrame(denselist, columns=feature_names)\n",
        "  feature_gen = feature_dataframe[lists]\n",
        "  feature_gen_mat = feature_gen.to_numpy()\n",
        "  l2norm = np.sqrt((feature_gen_mat.T * feature_gen_mat.T).sum(axis=1))\n",
        "  l2norm = l2norm.reshape(len(l2norm),1)\n",
        "  norm_feature_gen_mat = (feature_gen_mat.T/l2norm).T\n",
        "  V = norm_feature_gen_mat.T\n",
        "  S = np.matmul(V,V.T)\n",
        "  cosine_matrix_gen = pd.DataFrame(S, index = lists, columns = lists)\n",
        "  return statistics.mean(list(cosine_matrix_gen.iloc[-1, 1:len(cosine_matrix_gen)]))"
      ],
      "execution_count": null,
      "outputs": []
    },
    {
      "cell_type": "code",
      "metadata": {
        "id": "db3QJ4nvFMn1"
      },
      "source": [
        "documents = pickle.load(open('cleaned_9_14.pkl','rb'))\n",
        "samples = pickle.load(open('samples_final.pkl','rb'))"
      ],
      "execution_count": null,
      "outputs": []
    },
    {
      "cell_type": "code",
      "metadata": {
        "id": "S2tAlU-qNQjE"
      },
      "source": [
        "from google.colab import files"
      ],
      "execution_count": null,
      "outputs": []
    },
    {
      "cell_type": "code",
      "metadata": {
        "id": "sCktE_DFFUHu"
      },
      "source": [
        "sampler = []\n",
        "for i in range(8,9):#, len(samples)):\n",
        "  for j in range(0,len(samples[0])):\n",
        "      sampler.append(compute_cosineSimilarities(samples[i][j], documents))\n",
        "  #sampler.append(compute_cosineSimilarities(samples[i], documents))\n",
        "  pickle.dump(sampler, open('{}_avg_samp_28.pkl'.format(samples[i][1][-1]),'wb'))\n",
        "  #files.download('{}_avg_samp_36.pkl'.format(samples[i][1][-1]))\n",
        "  sampler = []"
      ],
      "execution_count": null,
      "outputs": []
    },
    {
      "cell_type": "code",
      "metadata": {
        "id": "zZaCBKSKnLC7"
      },
      "source": [
        "#print(statistics.mean(pickle.load(open('covid_avg_samp_26.pkl','rb'))))"
      ],
      "execution_count": null,
      "outputs": []
    },
    {
      "cell_type": "code",
      "metadata": {
        "id": "MmuP115y0Yep"
      },
      "source": [
        ""
      ],
      "execution_count": null,
      "outputs": []
    }
  ]
}